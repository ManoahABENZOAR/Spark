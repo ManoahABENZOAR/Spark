{
  "nbformat": 4,
  "nbformat_minor": 0,
  "metadata": {
    "colab": {
      "provenance": [],
      "include_colab_link": true
    },
    "kernelspec": {
      "name": "python3",
      "display_name": "Python 3"
    }
  },
  "cells": [
    {
      "cell_type": "markdown",
      "metadata": {
        "id": "view-in-github",
        "colab_type": "text"
      },
      "source": [
        "<a href=\"https://colab.research.google.com/github/ManoahABENZOAR/Spark/blob/main/sparkEXO.ipynb\" target=\"_parent\"><img src=\"https://colab.research.google.com/assets/colab-badge.svg\" alt=\"Open In Colab\"/></a>"
      ]
    },
    {
      "cell_type": "markdown",
      "metadata": {
        "id": "uL0HHBxQa1Hc"
      },
      "source": [
        "#00 - Configuration of Apache Spark on Collaboratory\n"
      ]
    },
    {
      "cell_type": "markdown",
      "metadata": {
        "id": "AcWXhOxia5yZ"
      },
      "source": [
        "###Installing Java, Spark, and Findspark\n",
        "\n",
        "\n",
        "---\n",
        "\n",
        "\n",
        "This code installs Apache Spark 3.0.1, Java 8, and [Findspark](https://github.com/minrk/findspark), a library that makes it easy for Python to find Spark."
      ]
    },
    {
      "cell_type": "code",
      "metadata": {
        "id": "KsAfQ0CrgnWf",
        "outputId": "abb20166-ae90-4fef-9594-0dcb1bdc6c55",
        "colab": {
          "base_uri": "https://localhost:8080/"
        }
      },
      "source": [
        "!apt-get update\n",
        "!apt-get install openjdk-8-jdk-headless -qq > /dev/null\n",
        "!wget  http://apache.osuosl.org/spark/spark-3.2.3/spark-3.2.3-bin-hadoop2.7.tgz   \n",
        "!tar xf spark-3.2.3-bin-hadoop2.7.tgz  \n",
        "!rm spark-3.2.3-bin-hadoop2.7.tgz    \n",
        "!pip install -q findspark"
      ],
      "execution_count": null,
      "outputs": [
        {
          "output_type": "stream",
          "name": "stdout",
          "text": [
            "Hit:1 https://cloud.r-project.org/bin/linux/ubuntu bionic-cran40/ InRelease\n",
            "Ign:2 https://developer.download.nvidia.com/compute/machine-learning/repos/ubuntu1804/x86_64  InRelease\n",
            "Hit:3 https://developer.download.nvidia.com/compute/cuda/repos/ubuntu1804/x86_64  InRelease\n",
            "Hit:4 https://developer.download.nvidia.com/compute/machine-learning/repos/ubuntu1804/x86_64  Release\n",
            "Hit:5 http://ppa.launchpad.net/c2d4u.team/c2d4u4.0+/ubuntu bionic InRelease\n",
            "Hit:6 http://archive.ubuntu.com/ubuntu bionic InRelease\n",
            "Hit:7 http://security.ubuntu.com/ubuntu bionic-security InRelease\n",
            "Hit:9 http://archive.ubuntu.com/ubuntu bionic-updates InRelease\n",
            "Hit:10 http://ppa.launchpad.net/cran/libgit2/ubuntu bionic InRelease\n",
            "Hit:11 http://archive.ubuntu.com/ubuntu bionic-backports InRelease\n",
            "Hit:12 http://ppa.launchpad.net/deadsnakes/ppa/ubuntu bionic InRelease\n",
            "Hit:13 http://ppa.launchpad.net/graphics-drivers/ppa/ubuntu bionic InRelease\n",
            "Reading package lists... Done\n",
            "--2023-01-02 18:25:35--  http://apache.osuosl.org/spark/spark-3.2.3/spark-3.2.3-bin-hadoop2.7.tgz\n",
            "Resolving apache.osuosl.org (apache.osuosl.org)... 64.50.236.52, 64.50.233.100, 140.211.166.134, ...\n",
            "Connecting to apache.osuosl.org (apache.osuosl.org)|64.50.236.52|:80... connected.\n",
            "HTTP request sent, awaiting response... 200 OK\n",
            "Length: 272866820 (260M) [application/x-gzip]\n",
            "Saving to: ‘spark-3.2.3-bin-hadoop2.7.tgz’\n",
            "\n",
            "spark-3.2.3-bin-had 100%[===================>] 260.23M  16.8MB/s    in 19s     \n",
            "\n",
            "2023-01-02 18:25:54 (14.0 MB/s) - ‘spark-3.2.3-bin-hadoop2.7.tgz’ saved [272866820/272866820]\n",
            "\n"
          ]
        }
      ]
    },
    {
      "cell_type": "code",
      "metadata": {
        "id": "2W8ScIqhafBT",
        "outputId": "aae3bc49-92c6-4edc-c9ea-799affa7d86c",
        "colab": {
          "base_uri": "https://localhost:8080/"
        }
      },
      "source": [
        "#!wget https://repos.spark-packages.org/graphframes/graphframes/0.8.1-spark3.0-s_2.12/graphframes-0.8.1-spark3.0-s_2.12.jar\n",
        "!wget https://repos.spark-packages.org/graphframes/graphframes/0.8.2-spark3.2-s_2.12/graphframes-0.8.2-spark3.2-s_2.12.jar"
      ],
      "execution_count": null,
      "outputs": [
        {
          "output_type": "stream",
          "name": "stdout",
          "text": [
            "--2023-01-02 18:26:01--  https://repos.spark-packages.org/graphframes/graphframes/0.8.2-spark3.2-s_2.12/graphframes-0.8.2-spark3.2-s_2.12.jar\n",
            "Resolving repos.spark-packages.org (repos.spark-packages.org)... 13.35.24.68, 13.35.24.100, 13.35.24.22, ...\n",
            "Connecting to repos.spark-packages.org (repos.spark-packages.org)|13.35.24.68|:443... connected.\n",
            "HTTP request sent, awaiting response... 200 OK\n",
            "Length: 247880 (242K) [binary/octet-stream]\n",
            "Saving to: ‘graphframes-0.8.2-spark3.2-s_2.12.jar’\n",
            "\n",
            "\r          graphfram   0%[                    ]       0  --.-KB/s               \rgraphframes-0.8.2-s 100%[===================>] 242.07K  --.-KB/s    in 0.01s   \n",
            "\n",
            "2023-01-02 18:26:01 (21.0 MB/s) - ‘graphframes-0.8.2-spark3.2-s_2.12.jar’ saved [247880/247880]\n",
            "\n"
          ]
        }
      ]
    },
    {
      "cell_type": "markdown",
      "metadata": {
        "id": "urlhmQ_ra_ba"
      },
      "source": [
        "### Set Environment Variables\n",
        "Set the locations where Spark and Java are installed."
      ]
    },
    {
      "cell_type": "code",
      "metadata": {
        "id": "hiOoj3rUgnVx",
        "outputId": "c0b15173-54a3-4e06-a405-65b0afc845b3",
        "colab": {
          "base_uri": "https://localhost:8080/"
        }
      },
      "source": [
        "import os\n",
        "os.environ[\"JAVA_HOME\"] = \"/usr/lib/jvm/java-8-openjdk-amd64\"\n",
        "os.environ[\"SPARK_HOME\"] = \"/content/spark/\"\n",
        "os.environ[\"DRIVE_DATA\"] = \"/content/gdrive/My Drive/SparkNotebook22-23-main/data/\"\n",
        "\n",
        "!rm /content/spark\n",
        "!ln -s /content/spark-3.2.3-bin-hadoop2.7 /content/spark\n",
        "\n",
        "#!mv graphframes-0.8.1-spark3.0-s_2.12.jar /content/spark/jars/\n",
        "!mv graphframes-0.8.2-spark3.2-s_2.12.jar /content/spark/jars/\n",
        "\n",
        "!export SPARK_HOME=/content/spark\n",
        "!export PATH=$PATH:$SPARK_HOME/bin:$SPARK_HOME/sbin\n",
        "\n",
        "!echo $SPARK_HOME\n",
        "!env |grep  \"DRIVE_DATA\"\n",
        "\n",
        "!ls -l /content/"
      ],
      "execution_count": null,
      "outputs": [
        {
          "output_type": "stream",
          "name": "stdout",
          "text": [
            "/content/spark/\n",
            "DRIVE_DATA=/content/gdrive/My Drive/SparkNotebook22-23-main/data/\n",
            "total 12\n",
            "drwx------  6 root root 4096 Jan  2 18:21 gdrive\n",
            "drwxr-xr-x  1 root root 4096 Dec 20 20:19 sample_data\n",
            "lrwxrwxrwx  1 root root   34 Jan  2 18:26 spark -> /content/spark-3.2.3-bin-hadoop2.7\n",
            "drwxr-xr-x 13  501 1000 4096 Nov 14 18:28 spark-3.2.3-bin-hadoop2.7\n"
          ]
        }
      ]
    },
    {
      "cell_type": "markdown",
      "metadata": {
        "id": "2URH7tCHbDqf"
      },
      "source": [
        "### Start a SparkSession\n",
        "This will start a local Spark session."
      ]
    },
    {
      "cell_type": "code",
      "metadata": {
        "id": "n8JD51WVauRN",
        "outputId": "7c297fcb-95b9-4228-8e86-8714234c95be",
        "colab": {
          "base_uri": "https://localhost:8080/"
        }
      },
      "source": [
        "!python -V\n",
        "\n",
        "import findspark\n",
        "findspark.init()\n",
        "\n",
        "from pyspark import SparkContext\n",
        "sc = SparkContext.getOrCreate()\n",
        "\n",
        "sc.addPyFile('/content/spark/jars/graphframes-0.8.2-spark3.2-s_2.12.jar')\n",
        "\n",
        "# Example: shows the PySpark version\n",
        "print(\"PySpark version {0}\".format(sc.version))\n",
        "\n",
        "# Example: parallelise an array and show the 2 first elements\n",
        "sc.parallelize([2, 3, 4, 5, 6]).cache().take(2)"
      ],
      "execution_count": null,
      "outputs": [
        {
          "output_type": "stream",
          "name": "stdout",
          "text": [
            "Python 3.8.16\n",
            "PySpark version 3.2.3\n"
          ]
        },
        {
          "output_type": "execute_result",
          "data": {
            "text/plain": [
              "[2, 3]"
            ]
          },
          "metadata": {},
          "execution_count": 27
        }
      ]
    },
    {
      "cell_type": "code",
      "metadata": {
        "id": "Ar81vEOHauP2"
      },
      "source": [
        "from pyspark.sql import SparkSession\n",
        "# We create a SparkSession object (or we retrieve it if it is already created)\n",
        "spark = SparkSession \\\n",
        ".builder \\\n",
        ".appName(\"My application\") \\\n",
        ".config(\"packages\",\"graphframes:graphframes-0.8.2-spark3.2-s_2.12\") \\\n",
        ".master(\"local[4]\") \\\n",
        ".getOrCreate()\n",
        "# We get the SparkContext\n",
        "sc = spark.sparkContext"
      ],
      "execution_count": null,
      "outputs": []
    },
    {
      "cell_type": "code",
      "metadata": {
        "id": "KBMAZitVauMT",
        "outputId": "31761a32-f13d-431d-f9f7-f00ae200cb00",
        "colab": {
          "base_uri": "https://localhost:8080/"
        }
      },
      "source": [
        "# Mount Google Drive\n",
        "from google.colab import drive\n",
        "drive.mount('/content/gdrive')"
      ],
      "execution_count": null,
      "outputs": [
        {
          "output_type": "stream",
          "name": "stdout",
          "text": [
            "Drive already mounted at /content/gdrive; to attempt to forcibly remount, call drive.mount(\"/content/gdrive\", force_remount=True).\n"
          ]
        }
      ]
    },
    {
      "cell_type": "markdown",
      "metadata": {
        "id": "fkKGBZRvEwZL"
      },
      "source": [
        "\n",
        "\n",
        "---\n",
        "\n",
        "\n",
        "# 03 - Working :"
      ]
    },
    {
      "cell_type": "markdown",
      "metadata": {
        "id": "T3ULPx4Y1LiR"
      },
      "source": [
        "## Exercise 3.1: Word count\n",
        "\n",
        "Count the number of words *per line* in the $DRIVE_DATA/quijote.txt file. \n",
        "\n",
        "Repeat the exercise but this time counting the number of words *in the whole file*."
      ]
    },
    {
      "cell_type": "code",
      "metadata": {
        "id": "c7Q_ljrX5RtE",
        "colab": {
          "base_uri": "https://localhost:8080/"
        },
        "outputId": "46c10d09-e62b-4abb-fcfd-cb74bed2b77a"
      },
      "source": [
        "from zmq.constants import NULL\n",
        "from pyspark.sql import functions as F\n",
        "from pyspark.sql.functions import col\n",
        "# so that we can use the F.split() function.\n",
        "\n",
        "dfQuijote = spark.read.text(os.environ[\"DRIVE_DATA\"] + \"/quijote.txt\")\n",
        "dfQuijote.show(truncate=False)\n",
        "dfQuijote.schema\n",
        "print(dfQuijote['value'])\n",
        "\n",
        "newdf = dfQuijote.withColumn('value', \\\n",
        "       F.when(col('value')==\"\" ,None) \\\n",
        "          .otherwise(F.col(\"value\"))) \\\n",
        "          .na.drop() \\\n",
        "          .withColumn('value', F.split(col('value'), ' ')) \\\n",
        "          .withColumn('size', F.size(col(\"value\"))) \\\n",
        "          #.withColumn(\"size\",col(\"size\").cast('int')) \\\n",
        "\n",
        "newdf.show(truncate=False)\n",
        "sum = newdf.select(F.sum('size')).collect()\n",
        "print(sum)"
      ],
      "execution_count": null,
      "outputs": [
        {
          "output_type": "stream",
          "name": "stdout",
          "text": [
            "+---------------------------------------------------------------------------+\n",
            "|value                                                                      |\n",
            "+---------------------------------------------------------------------------+\n",
            "|The Project Gutenberg EBook of Don Quijote, by Miguel de Cervantes Saavedra|\n",
            "|                                                                           |\n",
            "|This eBook is for the use of anyone anywhere at no cost and with           |\n",
            "|almost no restrictions whatsoever.  You may copy it, give it away or       |\n",
            "|re-use it under the terms of the Project Gutenberg License included        |\n",
            "|with this eBook or online at www.gutenberg.net                             |\n",
            "|                                                                           |\n",
            "|                                                                           |\n",
            "|Title: Don Quijote                                                         |\n",
            "|                                                                           |\n",
            "|Author: Miguel de Cervantes Saavedra                                       |\n",
            "|                                                                           |\n",
            "|Posting Date: April 27, 2010 [EBook #2000]                                 |\n",
            "|Release Date: December, 1999                                               |\n",
            "|                                                                           |\n",
            "|Language: Spanish                                                          |\n",
            "|                                                                           |\n",
            "|                                                                           |\n",
            "|*** START OF THIS PROJECT GUTENBERG EBOOK DON QUIJOTE ***                  |\n",
            "|                                                                           |\n",
            "+---------------------------------------------------------------------------+\n",
            "only showing top 20 rows\n",
            "\n",
            "Column<'value'>\n",
            "+----------------------------------------------------------------------------------------+----+\n",
            "|value                                                                                   |size|\n",
            "+----------------------------------------------------------------------------------------+----+\n",
            "|[The, Project, Gutenberg, EBook, of, Don, Quijote,, by, Miguel, de, Cervantes, Saavedra]|12  |\n",
            "|[This, eBook, is, for, the, use, of, anyone, anywhere, at, no, cost, and, with]         |14  |\n",
            "|[almost, no, restrictions, whatsoever., , You, may, copy, it,, give, it, away, or]      |13  |\n",
            "|[re-use, it, under, the, terms, of, the, Project, Gutenberg, License, included]         |11  |\n",
            "|[with, this, eBook, or, online, at, www.gutenberg.net]                                  |7   |\n",
            "|[Title:, Don, Quijote]                                                                  |3   |\n",
            "|[Author:, Miguel, de, Cervantes, Saavedra]                                              |5   |\n",
            "|[Posting, Date:, April, 27,, 2010, [EBook, #2000]]                                      |7   |\n",
            "|[Release, Date:, December,, 1999]                                                       |4   |\n",
            "|[Language:, Spanish]                                                                    |2   |\n",
            "|[***, START, OF, THIS, PROJECT, GUTENBERG, EBOOK, DON, QUIJOTE, ***]                    |10  |\n",
            "|[Produced, by, an, anonymous, Project, Gutenberg, volunteer., Text]                     |8   |\n",
            "|[file, corrections, and, new, HTML, file, by, Joaquin, Cuenca, Abela.]                  |10  |\n",
            "|[El, ingenioso, hidalgo, don, Quijote, de, la, Mancha]                                  |8   |\n",
            "|[TASA]                                                                                  |1   |\n",
            "|[Yo,, Juan, Gallo, de, Andrada,, escribano, de, Cámara, del, Rey, nuestro, señor,, de]  |13  |\n",
            "|[los, que, residen, en, su, Consejo,, certifico, y, doy, fe, que,, habiendo, visto, por]|14  |\n",
            "|[los, señores, dél, un, libro, intitulado, El, ingenioso, hidalgo, de, la, Mancha,]     |12  |\n",
            "|[compuesto, por, Miguel, de, Cervantes, Saavedra,, tasaron, cada, pliego, del, dicho]   |11  |\n",
            "|[libro, a, tres, maravedís, y, medio;, el, cual, tiene, ochenta, y, tres, pliegos,, que]|14  |\n",
            "+----------------------------------------------------------------------------------------+----+\n",
            "only showing top 20 rows\n",
            "\n",
            "[Row(sum(size)=387834)]\n"
          ]
        }
      ]
    },
    {
      "cell_type": "markdown",
      "metadata": {
        "id": "7ppnan-_ELFI"
      },
      "source": [
        "## Exercise 4.1: Pi Estimation\n",
        "\n",
        "Using the Monte Carlo method, estimate the value of Pi. Use the random() method from the random class."
      ]
    },
    {
      "cell_type": "code",
      "execution_count": null,
      "metadata": {
        "id": "mSkWxWdJ5Vk8",
        "colab": {
          "base_uri": "https://localhost:8080/"
        },
        "outputId": "dc626091-6f4f-4c23-ffcd-e381c3482c2f"
      },
      "outputs": [
        {
          "output_type": "stream",
          "name": "stdout",
          "text": [
            "PI ~= 3.14097\n"
          ]
        }
      ],
      "source": [
        "import random\n",
        "import numpy as np\n",
        "#from random import random\n",
        "def inCircle():\n",
        "    #randomly chose a point between 0 and 1, named X\n",
        "    a = random.random() \n",
        "    b = random.random()\n",
        "    x = -1 + 2 * a # absisse \n",
        "    y = -1 + 2 * b # ordonnée \n",
        "    \n",
        "    d = x**2 + y**2  # square of the distance OX\n",
        "    if d <= 1: # if point X in the circle \n",
        "        return 1\n",
        "    else:     # else\n",
        "        return 0\n",
        "\n",
        "N = 0 # init the number of point in the circle --> will increase \n",
        "f = 10000000\n",
        "for n in range(f):\n",
        "    N += inCircle()\n",
        "print(\"PI ~= {}\".format(4 * N / f))"
      ]
    },
    {
      "cell_type": "markdown",
      "metadata": {
        "id": "2vPYCnS8ERmg"
      },
      "source": [
        "## Exercise 4.2: Inspect a log file\n",
        "\n",
        "Upload the file /var/log/syslog from your computer to this notebook. Then, select only the \"bad lines\": WARNING and ERROR messages."
      ]
    },
    {
      "cell_type": "code",
      "execution_count": null,
      "metadata": {
        "id": "VR-Men-G5ZdZ",
        "colab": {
          "base_uri": "https://localhost:8080/"
        },
        "outputId": "15db3c91-0a02-456f-a657-d9f196ee56fd"
      },
      "outputs": [
        {
          "output_type": "stream",
          "name": "stdout",
          "text": [
            "+--------------------------------------------------------------------------------------------------------------------------------------------------------------------------------------------------------------------------------------------------------------------+\n",
            "|value                                                                                                                                                                                                                                                               |\n",
            "+--------------------------------------------------------------------------------------------------------------------------------------------------------------------------------------------------------------------------------------------------------------------+\n",
            "|Nov 22 17:20:17 student-laptop snapd[1206]: stateengine.go:149: state ensure error: Get https://api.snapcraft.io/api/v1/snaps/sections: dial tcp: lookup api.snapcraft.io: no such host                                                                             |\n",
            "|Nov 22 17:20:18 student-laptop ntpd[1378]: error resolving pool time.cergy.eisti.fr: Name or service not known (-2)                                                                                                                                                 |\n",
            "|Nov 22 17:20:23 student-laptop ovpn-cytech.students[1712]: WARNING: file '/data/CYTECH-VPN-CLE-PERSONNELLE/client.p12' is group or others accessible                                                                                                                |\n",
            "|Nov 22 17:20:23 student-laptop dockerd[1710]: time=\"2022-11-22T17:20:23.691811069+01:00\" level=warning msg=\"Your kernel does not support swap memory limit\"                                                                                                         |\n",
            "|Nov 22 17:20:23 student-laptop dockerd[1710]: time=\"2022-11-22T17:20:23.691836201+01:00\" level=warning msg=\"Your kernel does not support CPU realtime scheduler\"                                                                                                    |\n",
            "|Nov 22 17:20:23 student-laptop dockerd[1710]: time=\"2022-11-22T17:20:23.691844314+01:00\" level=warning msg=\"Your kernel does not support cgroup blkio weight\"                                                                                                       |\n",
            "|Nov 22 17:20:23 student-laptop dockerd[1710]: time=\"2022-11-22T17:20:23.691850885+01:00\" level=warning msg=\"Your kernel does not support cgroup blkio weight_device\"                                                                                                |\n",
            "|Nov 22 17:20:23 student-laptop gnome-session[1943]: gnome-session-binary[1943]: WARNING: Falling back to non-systemd startup procedure due to error: GDBus.Error:org.freedesktop.DBus.Error.Spawn.ChildExited: Process org.freedesktop.systemd1 exited with status 1|\n",
            "|Nov 22 17:20:23 student-laptop gnome-session-binary[1943]: WARNING: Falling back to non-systemd startup procedure due to error: GDBus.Error:org.freedesktop.DBus.Error.Spawn.ChildExited: Process org.freedesktop.systemd1 exited with status 1                     |\n",
            "|Nov 22 17:20:24 student-laptop gnome-shell[2044]: Error setting property 'Powered' on interface org.bluez.Adapter1: GDBus.Error:org.bluez.Error.Blocked: Blocked through rfkill (g-io-error-quark, 36)                                                              |\n",
            "|Nov 22 17:20:24 student-laptop gnome-shell[2044]: Error looking up permission: GDBus.Error:org.freedesktop.portal.Error.NotFound: No entry for geolocation                                                                                                          |\n",
            "|Nov 22 17:20:24 student-laptop gsd-sharing[2218]: Failed to StopUnit service: GDBus.Error:org.freedesktop.DBus.Error.Spawn.ChildExited: Process org.freedesktop.systemd1 exited with status 1                                                                       |\n",
            "|Nov 22 17:20:24 student-laptop gsd-sharing[2218]: message repeated 3 times: [ Failed to StopUnit service: GDBus.Error:org.freedesktop.DBus.Error.Spawn.ChildExited: Process org.freedesktop.systemd1 exited with status 1]                                          |\n",
            "|Nov 22 17:20:27 student-laptop org.gnome.Shell.desktop[2361]: > Warning:          Unsupported maximum keycode 569, clipping.                                                                                                                                        |\n",
            "|Nov 22 17:20:27 student-laptop org.gnome.Shell.desktop[2361]: > Internal error:   Could not resolve keysym Invalid                                                                                                                                                  |\n",
            "|Nov 22 17:20:27 student-laptop org.gnome.Shell.desktop[2361]: Errors from xkbcomp are not fatal to the X server                                                                                                                                                     |\n",
            "|Nov 22 17:20:30 student-laptop gnome-shell[2044]: Warning: Failed to start gsd-xsettings                                                                                                                                                                            |\n",
            "|Nov 22 17:20:30 student-laptop gnome-shell[2044]: JS WARNING: [resource:///org/gnome/shell/ui/layout.js 24]: reference to undefined property \"MetaWindowXwayland\"                                                                                                   |\n",
            "|Nov 22 17:20:32 student-laptop /usr/lib/gdm3/gdm-x-session[2468]: #011(WW) warning, (EE) error, (NI) not implemented, (??) unknown.                                                                                                                                 |\n",
            "|Nov 22 17:20:33 student-laptop gnome-session-c[2580]: Error creating FIFO: File exists                                                                                                                                                                              |\n",
            "+--------------------------------------------------------------------------------------------------------------------------------------------------------------------------------------------------------------------------------------------------------------------+\n",
            "only showing top 20 rows\n",
            "\n"
          ]
        },
        {
          "output_type": "execute_result",
          "data": {
            "text/plain": [
              "136"
            ]
          },
          "metadata": {},
          "execution_count": 34
        }
      ],
      "source": [
        "df = spark.read.text(os.environ[\"DRIVE_DATA\"] + \"/syslog\")\n",
        "df.createOrReplaceTempView(\"dff\")\n",
        "\n",
        "dfF = spark.sql(\"SELECT value FROM dff \\\n",
        "                         WHERE  lower(value) like '%warning%' \\\n",
        "                         OR  upper(value) like '%warning%' \\\n",
        "                         OR  lower(value) like '%error%' \\\n",
        "                         OR  upper(value) like '%error%' \")\n",
        "\n",
        "dfF.select(\"value\").show(truncate=False)\n",
        "dfF.count()"
      ]
    },
    {
      "cell_type": "markdown",
      "metadata": {
        "id": "mJ708zvl627q"
      },
      "source": [
        "### Exercise 5.1: Word count\n",
        "\n",
        "**Using RDDs**, count the number of lines in the `$DRIVE_DATA/quijote.txt` file. Then, count the number of words in the file. Finally, count the number of *different* words in the file.\n"
      ]
    },
    {
      "cell_type": "code",
      "execution_count": null,
      "metadata": {
        "colab": {
          "base_uri": "https://localhost:8080/"
        },
        "id": "Slr4nXhp_knl",
        "outputId": "4d48a942-c06d-4ca8-d020-79648389922d"
      },
      "outputs": [
        {
          "output_type": "stream",
          "name": "stdout",
          "text": [
            "Nombre de lignes 37861\n",
            "Nombre de lignes non vides 31931\n",
            "Nombre de mots 387834 (compte les espaces comme des mots)\n",
            "Nombre de mots distinct 40059\n"
          ]
        }
      ],
      "source": [
        "quijoteRDD = sc.textFile(os.environ[\"DRIVE_DATA\"] + \"quijote.txt\", use_unicode=True)\n",
        "\n",
        "print( \"Nombre de lignes {0}\".format(quijoteRDD.count()) ) # nombre de lignes\n",
        "#print(quijoteRDD.collect())\n",
        "quirdd = quijoteRDD.filter(lambda x: len(x) != 0) # enlève les lignes vides = ''\n",
        "qrdd = quirdd.map(lambda x: ( len( x.split(\" \")) ))\n",
        "words = quirdd.flatMap(lambda x: x.split(\" \") )\n",
        "print( \"Nombre de lignes non vides {0}\".format(qrdd.count()) ) #nombre de lignes non vides\n",
        "#print(qrdd.collect())\n",
        "print( \"Nombre de mots {0} (compte les espaces comme des mots)\".format(qrdd.sum()) ) #nombre de mots\n",
        "#print(words.take(10))\n",
        "print( \"Nombre de mots distinct {0}\".format(words.distinct().count()-1) ) # -1 pour enlever le mot = \" \"\n"
      ]
    },
    {
      "cell_type": "markdown",
      "metadata": {
        "id": "jjtVkYOKxTo7"
      },
      "source": [
        "### Exercise 5.2: Count people by age\n",
        "\n",
        "Using RDDs, create a barplot showing of number of people (y-axis) per age (x-axis) using the information in the $DRIVE_DATA/people.txt file\n",
        "\n"
      ]
    },
    {
      "cell_type": "code",
      "execution_count": null,
      "metadata": {
        "colab": {
          "base_uri": "https://localhost:8080/",
          "height": 439
        },
        "id": "-JgE0XavBBLB",
        "outputId": "00076a3f-0216-4831-80be-b4647db31f84"
      },
      "outputs": [
        {
          "output_type": "execute_result",
          "data": {
            "text/plain": [
              "(array([2., 0., 0., 0., 0., 0., 0., 0., 0., 0., 0., 0., 0., 0., 0., 0., 0.,\n",
              "        0., 0., 0., 0., 0., 0., 0., 0., 0., 0., 0., 0., 0., 2., 2., 0., 0.,\n",
              "        0., 0., 0., 0., 0., 0., 0., 0., 0., 0., 0., 1., 0., 0., 0., 2.]),\n",
              " array([17.  , 17.72, 18.44, 19.16, 19.88, 20.6 , 21.32, 22.04, 22.76,\n",
              "        23.48, 24.2 , 24.92, 25.64, 26.36, 27.08, 27.8 , 28.52, 29.24,\n",
              "        29.96, 30.68, 31.4 , 32.12, 32.84, 33.56, 34.28, 35.  , 35.72,\n",
              "        36.44, 37.16, 37.88, 38.6 , 39.32, 40.04, 40.76, 41.48, 42.2 ,\n",
              "        42.92, 43.64, 44.36, 45.08, 45.8 , 46.52, 47.24, 47.96, 48.68,\n",
              "        49.4 , 50.12, 50.84, 51.56, 52.28, 53.  ]),\n",
              " <a list of 50 Patch objects>)"
            ]
          },
          "metadata": {},
          "execution_count": 36
        },
        {
          "output_type": "display_data",
          "data": {
            "text/plain": [
              "<Figure size 432x288 with 1 Axes>"
            ],
            "image/png": "[encoded data removed]"
          },
          "metadata": {
            "needs_background": "light"
          }
        }
      ],
      "source": [
        "#prdd = sc.textFile(os.environ[\"DRIVE_DATA\"] + \"people.txt\")\n",
        "linesrdd = sc.textFile(os.environ[\"DRIVE_DATA\"] + \"/people.txt\", use_unicode=True)\n",
        "prdd = linesrdd.map(lambda x: (x.split(\"\\t\")[0], int(x.split(\"\\t\")[1])))        #int\n",
        "  #prdd = linesrdd.map(lambda x: (x.split(\"\\t\")[0], x.split(\"\\t\")[1]))            #string\n",
        "#print(prdd.count())\n",
        "#print(prdd.sortBy(lambda x: x[1]).collect())\n",
        "dfNew = spark.createDataFrame(prdd, ['Nom', 'Age'])\n",
        "#dfNew.show()\n",
        "\n",
        "\n",
        "\n",
        "\n",
        "import matplotlib.pyplot as plt\n",
        "# Show histogram of the 'Age' column\n",
        "bins, counts = dfNew.select('Age').rdd.flatMap(lambda x: x).histogram(50)\n",
        "plt.hist(bins[:-1], bins=bins, weights=counts)\n"
      ]
    },
    {
      "cell_type": "markdown",
      "metadata": {
        "id": "xddDZ2zCxTor"
      },
      "source": [
        "### Exercise 5.3: Obtain the number of received citations \n",
        "\n",
        "Using RDDs, write a PySpark program that obtains, from the cite75_99.txt file, the number of citations received by each patent. \n"
      ]
    },
    {
      "cell_type": "code",
      "execution_count": null,
      "metadata": {
        "colab": {
          "base_uri": "https://localhost:8080/"
        },
        "id": "PmYIlZ0dCQ6x",
        "outputId": "db9ff63d-cfd6-46a7-bce9-e73d3d59a702"
      },
      "outputs": [
        {
          "output_type": "stream",
          "name": "stdout",
          "text": [
            "12-2.csv\t       cite75_99.txt.tar.bz2   part-apat63.txt\n",
            "12-4_MaxAvgDiff.csv    country_codes.txt       people.txt\n",
            "12-5_diff.csv\t       ct.txt\t\t       quijote.txt\n",
            "2015-summary.csv       dfSE2.parquet\t       sw.json\n",
            "apat63_99.txt\t       dfSE.json\t       sw.txt\n",
            "apat63_99.txt.tar.bz2  dfSE.parquet\t       syslog\n",
            "books\t\t       dfSE-partition.parquet  testjson.txt\n",
            "by-day\t\t       italianPosts.csv.bz2\n",
            "cite75_99.txt\t       myscript.py\n",
            "\n",
            "Sorting the valuse from the smallest to the biggest : \n",
            "[('\"CITED\"', 1), ('1324234', 1), ('3398406', 1), ('3557384', 1), ('2949611', 1), ('3146465', 1), ('3574238', 1), ('3681785', 1), ('17445', 1), ('956203', 1), ('3634889', 1), ('1515701', 1), ('3319261', 1), ('3668705', 1), ('3707004', 1), ('3156927', 1), ('3221341', 1), ('3684611', 1), ('14040', 1), ('2211676', 3)]\n"
          ]
        }
      ],
      "source": [
        "!ls \"$DRIVE_DATA\"\n",
        "#lrdd = sc.textFile(os.environ[\"DRIVE_DATA\"] + \"cite75_99.txt\", use_unicode=True)\n",
        "lrdd = sc.textFile(os.environ[\"DRIVE_DATA\"] + \"ct.txt\", use_unicode=True) # took just a small part of the file because the whole text is to big\n",
        "lrdd = lrdd.map(lambda x: (x.split(\",\")[0], x.split(\",\")[1])) \n",
        "lrdd = lrdd.map(lambda x: (x[1], 1))\n",
        "print(\"\\nSorting the valuse from the smallest to the biggest : \")\n",
        "print(lrdd.reduceByKey(lambda x,y:x+y).sortBy(lambda x: x[1]).collect())\n",
        "\n",
        "\n"
      ]
    },
    {
      "cell_type": "markdown",
      "metadata": {
        "id": "usL5LynSI6rE"
      },
      "source": [
        "## Exercise 11.1:\n",
        "\n",
        "A long time ago in a galaxy far, far away, the characters of the Star Wars franchise interacted with each other in an endless series of films. An ancient Jedi order, called the *Data Guardians of the Galaxy* (not affiliated to Marvel's homonym :) registered all those interactions and saved them on a digital file so that they could be studied by the forthcoming generations. This file was originally called (guess it) `sw.txt`, and you will find it in the `/data` directory. \n",
        "\n",
        "Using pySpark, perform the following operations and answer the following questions:\n",
        "\n",
        "1. Load the `$DRIVE_DATA/sw.txt` file. Take into account that it is a JSON file.\n",
        "2. Using this information, create a graph of interactions between the Star Wars characters.\n",
        "3. How many different characters are there?\n",
        "4. How many interactions are there?\n",
        "5. Who is the central character in Star Wars (the one who interacts in most scenes)? \n",
        "6. Who is the character with the highest 'rank' in Star Wars (use the PageRank algorithm)?"
      ]
    },
    {
      "cell_type": "code",
      "metadata": {
        "id": "fM--zQhLyAYM",
        "colab": {
          "base_uri": "https://localhost:8080/",
          "height": 595
        },
        "outputId": "9312d3e8-47bd-45d3-fa40-6b89a97d91b2"
      },
      "source": [
        "#DF\n",
        "\n",
        "sw1 = spark.read.option(\"multiline\",\"true\").json(os.environ[\"DRIVE_DATA\"] + \"/sw.txt\")\n",
        "#sw1.printSchema()\n",
        "#sw1.show()\n",
        "  # pour afficher 1 seule colonne\n",
        "  #links = sw1.select(col('links')).show()\n",
        "  #pour afficher sous colonne\n",
        "  #sw1.select(\"nodes.name\").show()\n",
        "\n",
        "\n",
        "from zmq.constants import NULL\n",
        "from pyspark.sql import functions as F\n",
        "# so that we can use the F.split() function.\n",
        "\n",
        "from pyspark.sql.types import *\n",
        "\n",
        "sw2 = sw1.withColumn(\"links_nodes\", F.explode(F.arrays_zip(\"links\", \"nodes\")))\\\n",
        "    .select(\"links_nodes.links\", \"links_nodes.nodes\")\n",
        "#sw2.show()\n",
        "\n",
        "sw2l = sw2.drop(\"nodes\")\n",
        "sw2n = sw2.drop(\"links\")\n",
        "  #sw2l.show()\n",
        "\n",
        "  #sw2l.select('links.source').show()\n",
        "sw2l = sw2l.select(\"links\",\"links.source\",\"links.target\",\"links.value\")\n",
        "  #sw2l.show()\n",
        "sw2n = sw2n.select(\"nodes\",\"nodes.colour\",\"nodes.name\",\"nodes.value\")\n",
        "  #sw2n.show()\n",
        "\n",
        "from pyspark.sql.functions import monotonically_increasing_id as auto\n",
        "sw2n = sw2n.withColumn(\"id\", auto())\n",
        "  #sw2n.show()\n",
        "\n",
        "vsw2l = sw2l.drop(\"links\")\n",
        "vsw2n = sw2n.drop(\"nodes\")\n",
        "vsw2n = sw2n.select(\"id\",\"colour\",\"name\",\"value\")\n",
        "  #renaming\n",
        "vsw2l = vsw2l.withColumnRenamed('source', 'src')\n",
        "vsw2l = vsw2l.withColumnRenamed('target', 'dst')\n",
        "#vsw2l.show()\n",
        "#vsw2n.show()\n",
        "  #print(vsw2l.tail(5))\n",
        "\n",
        "  #from graphframes import *\n",
        "  #already import\n",
        "import matplotlib.pyplot as plt\n",
        "import networkx as nx\n",
        "def PlotGraph(edge_list):\n",
        "    Gplot=nx.Graph()\n",
        "    for row in edge_list.select('src','dst').take(1000):\n",
        "        Gplot.add_edge(row['src'],row['dst'])\n",
        "\n",
        "    plt.subplot(121)\n",
        "    nx.draw(Gplot, with_labels=True, font_weight='bold')\n",
        "\n",
        "\n",
        "g = GraphFrame(vsw2n, vsw2l)\n",
        "PlotGraph(g.edges)\n",
        "\n",
        "#Get in-degree of each vertex\n",
        "  #g.inDegrees.show()\n",
        "\n",
        "#How many different characters are there?\n",
        "rows1 = vsw2n.select(\"name\").rdd.distinct()\n",
        "  #print(rows1.collect())\n",
        "print( \" \\n Nombre de persos diff {0}\".format(rows1.distinct().count()-1) )\n",
        "\n",
        "\n",
        "#How many interactions are there?\n",
        "sum = g.inDegrees.select(F.sum('inDegree')).collect()\n",
        "print(\" \\n Nombre d interactions {0}\".format(sum))\n",
        "\n",
        "#Who is the central character in Star Wars (the one who interacts in most scenes)?\n",
        "  #print(g.inDegrees.select(\"inDegree\").rdd.max())\n",
        "print(\" \\n Perso le plus impt\")\n",
        "g.inDegrees.inDegree\n",
        "df = g.inDegrees.filter(  g.inDegrees.inDegree >= 23  )\n",
        "df = vsw2n.filter(  vsw2n.id == 18  )\n",
        "df.show()\n",
        "\n",
        "from pyspark.sql.functions import desc\n",
        "#Who is the character with the highest 'rank' in Star Wars (use the PageRank algorithm)?\n",
        "print(\" \\n Perso avec le plus haut rank\")\n",
        "results = g.pageRank(resetProbability=0.01, maxIter=20)\n",
        "  #results.vertices.select(\"id\", \"pagerank\").show()\n",
        "  #results.vertices.select(\"id\", \"pagerank\").orderBy(desc('pagerank')).show()\n",
        "df = vsw2n.filter(  vsw2n.id == 34  )\n",
        "df.show()"
      ],
      "execution_count": null,
      "outputs": [
        {
          "output_type": "stream",
          "name": "stdout",
          "text": [
            " \n",
            " Nombre de persos diff 111\n",
            " \n",
            " Nombre d interactions [Row(sum(inDegree)=444)]\n",
            " \n",
            " Perso le plus impt\n",
            "+---+-------+-----+-----+\n",
            "| id| colour| name|value|\n",
            "+---+-------+-----+-----+\n",
            "| 18|#DDA0DD|PADME|   75|\n",
            "+---+-------+-----+-----+\n",
            "\n",
            " \n",
            " Perso avec le plus haut rank\n",
            "+---+-------+----+-----+\n",
            "| id| colour|name|value|\n",
            "+---+-------+----+-----+\n",
            "| 34|#9ACD32|YODA|   46|\n",
            "+---+-------+----+-----+\n",
            "\n"
          ]
        },
        {
          "output_type": "display_data",
          "data": {
            "text/plain": [
              "<Figure size 432x288 with 1 Axes>"
            ],
            "image/png": "[encoded data removed]"
          },
          "metadata": {}
        }
      ]
    },
    {
      "cell_type": "markdown",
      "metadata": {
        "id": "za4qzjHXyxcn"
      },
      "source": [
        "## Exercise 12.1\n",
        "\n",
        "Let us extract information from the cite75_99.txt and apat63_99.txt files. Write a script that performs the following operations:\n",
        "\n",
        "1. From the cite75_99.txt file, obtain the number of citations received by each patent. You must produce a DataFrame with the following format:\n",
        "\n",
        "| PatentNum | ncitations |\n",
        "|-----------|------------|\n",
        "| 3060453   |    3       |\n",
        "| 3390168   |    6       |\n",
        "| 3626542   |   18       | \n",
        "| 3611507   |    5       |\n",
        "| 3000113   |    4       |\n",
        "\n",
        "\n",
        "2. From the apat63_99.txt file, create a DataFrame to show the patent number, its country and the patent year, discarding the rest of fields in the file. The DataFrame produced must have the following format:\n",
        "\n",
        "|PatentNum |country|Year |\n",
        "|----------|-------|-----|\n",
        "| 3070801  | BE    | 1963| \n",
        "| 3070802  | US    | 1963| \n",
        "| 3070803  | US    | 1963| \n",
        "| 3070804  | US    | 1963| \n",
        "| 3070805  | US    | 1963|\n",
        "\n",
        " \n",
        "**Requirements**\n",
        "\n",
        " - Both DataFrames must be stored in Parquet format with gzip compression. Check the number of partitions of each DataFrame and the number of files gererated.\n",
        "\n",
        " - It is **strongly advised** to copy the files from your Drive to a temporal directory in the notebook virtual machine and unzip them there. This will reduce the execution times. See the cell below:\n",
        "        "
      ]
    },
    {
      "cell_type": "code",
      "metadata": {
        "id": "aV_M6xMlB9hP",
        "colab": {
          "base_uri": "https://localhost:8080/"
        },
        "outputId": "5e20dec9-5937-4f5a-b5de-b8fd77b71af9"
      },
      "source": [
        "!mkdir /tmp/data/\n",
        "!cp \"$DRIVE_DATA\"apat63_99.txt.tar.bz2 \"$DRIVE_DATA\"cite75_99.txt.tar.bz2 /tmp/data\n",
        "%cd /tmp/data\n",
        "!ls\n",
        "!tar -jxf apat63_99.txt.tar.bz2\n",
        "!tar -jxf cite75_99.txt.tar.bz2\n",
        "!rm /tmp/data/*.tar.bz2\n",
        "!ls\n"
      ],
      "execution_count": null,
      "outputs": [
        {
          "output_type": "stream",
          "name": "stdout",
          "text": [
            "/tmp/data\n",
            "apat63_99.txt.tar.bz2  cite75_99.txt.tar.bz2\n",
            "apat63_99.txt  cite75_99.txt\n"
          ]
        }
      ]
    },
    {
      "cell_type": "code",
      "source": [
        "#Cite \n",
        "\n",
        "from pyspark.sql import functions as F\n",
        "df = spark.read.text(\"/tmp/data/\"+\"cite75_99.txt\") \n",
        "df = df.withColumn('PatentNum', F.split(F.col('value'), ',').getItem(0)) \\\n",
        "        .withColumn('ncitations', F.split(F.col('value'), ',').getItem(1)) \\\n",
        "        .select('PatentNum', 'ncitations')  \n",
        "df = df.where(df.PatentNum != '\"CITING\"')\n",
        "df = df.groupBy(\"ncitations\").count() \\\n",
        "                             .withColumnRenamed('ncitations', 'PatentNum') \\\n",
        "                             .withColumnRenamed('count', 'ncitations')\n",
        "df.show() \n",
        "df.write.parquet(\"/tmp/data/ct.parquet\")                     \n",
        "\n",
        "\n",
        "\n",
        "########################\n",
        "#apat\n",
        "df2 = spark.read.text(\"/tmp/data/\"+\"apat63_99.txt\") \n",
        "df2.printSchema()\n",
        "#df2.show()\n",
        "\n",
        "df2 = df2.withColumn('value', \\\n",
        "       F.when(F.col('value')==\"\" ,None) \\\n",
        "          .otherwise(F.col(\"value\"))) \\\n",
        "          .na.drop() \\\n",
        "          .withColumn('PatentNum', F.split(F.col('value'), ',').getItem(0)) \\\n",
        "          .withColumn('Country', F.split(F.col('value'), ',').getItem(4)) \\\n",
        "          .withColumn('Year', F.split(F.col('value'), ',').getItem(1)) \n",
        "#df2.show()\n",
        "df2 = df2.where(df2.PatentNum != '\"PATENT\"')        \n",
        "df2 = df2.select(\"PatentNum\",\"Country\",\"Year\")  \n",
        "\n",
        "\n",
        "df2.show()    \n",
        "df2.write.parquet(\"/tmp/data/apat.parquet\")\n",
        "\n",
        "#delete the parquet to be able to re run the same code\n",
        "import shutil\n",
        "\"\"\"\n",
        "shutil.rmtree('/tmp/data/ct.parquet')\n",
        "shutil.rmtree('/tmp/data/apat.parquet')\n",
        "\"\"\""
      ],
      "metadata": {
        "id": "aopuYA5yLI2X",
        "colab": {
          "base_uri": "https://localhost:8080/",
          "height": 990
        },
        "outputId": "1121483d-e0bb-4842-d0fe-d281a60564e1"
      },
      "execution_count": null,
      "outputs": [
        {
          "output_type": "stream",
          "name": "stdout",
          "text": [
            "+---------+----------+\n",
            "|PatentNum|ncitations|\n",
            "+---------+----------+\n",
            "|  2866982|         2|\n",
            "|  3720533|        18|\n",
            "|  2599580|         1|\n",
            "|  1454857|         1|\n",
            "|  3584362|         8|\n",
            "|  3555754|         3|\n",
            "|  3065579|         3|\n",
            "|  3559449|         3|\n",
            "|  3557600|         8|\n",
            "|  3712181|         9|\n",
            "|  3677920|        53|\n",
            "|   205069|         7|\n",
            "|  3757818|         6|\n",
            "|  2793900|         2|\n",
            "|  2387335|         2|\n",
            "|  2196511|         3|\n",
            "|  3023876|         7|\n",
            "|  1980776|         3|\n",
            "|  3094258|        11|\n",
            "|  3541977|         6|\n",
            "+---------+----------+\n",
            "only showing top 20 rows\n",
            "\n",
            "root\n",
            " |-- value: string (nullable = true)\n",
            "\n",
            "+---------+-------+----+\n",
            "|PatentNum|Country|Year|\n",
            "+---------+-------+----+\n",
            "|  3070801|   \"BE\"|1963|\n",
            "|  3070802|   \"US\"|1963|\n",
            "|  3070803|   \"US\"|1963|\n",
            "|  3070804|   \"US\"|1963|\n",
            "|  3070805|   \"US\"|1963|\n",
            "|  3070806|   \"US\"|1963|\n",
            "|  3070807|   \"US\"|1963|\n",
            "|  3070808|   \"US\"|1963|\n",
            "|  3070809|   \"US\"|1963|\n",
            "|  3070810|   \"US\"|1963|\n",
            "|  3070811|   \"US\"|1963|\n",
            "|  3070812|   \"US\"|1963|\n",
            "|  3070813|   \"US\"|1963|\n",
            "|  3070814|   \"US\"|1963|\n",
            "|  3070815|   \"US\"|1963|\n",
            "|  3070816|   \"US\"|1963|\n",
            "|  3070817|   \"US\"|1963|\n",
            "|  3070818|   \"US\"|1963|\n",
            "|  3070819|   \"US\"|1963|\n",
            "|  3070820|   \"GB\"|1963|\n",
            "+---------+-------+----+\n",
            "only showing top 20 rows\n",
            "\n"
          ]
        },
        {
          "output_type": "execute_result",
          "data": {
            "text/plain": [
              "\"\\nshutil.rmtree('/tmp/data/ct.parquet')\\nshutil.rmtree('/tmp/data/apat.parquet')\\n\""
            ],
            "application/vnd.google.colaboratory.intrinsic+json": {
              "type": "string"
            }
          },
          "metadata": {},
          "execution_count": 40
        }
      ]
    },
    {
      "cell_type": "markdown",
      "metadata": {
        "id": "HF1_LXZEnzMn"
      },
      "source": [
        "## Exercise 12.2\n",
        "\n",
        "Write a code that, from the Parquet files created in the previous exercise, obtains for each country and for each year: the total number of patents, the total number of citations from those patents, the average number of citations and the maximum number of citations. Compute only those values in which there are any values in both files (*inner join*). In addition, each country must show its whole name, obtained from the *country_codes.txt* file. The final DataFrame must look like this one:\n",
        "\n",
        "\n",
        "|Country            |Year|PatentsNum |TotalCitations|AvgCitations      |MaxCitations|\n",
        "|-------------------|----|-----------|--------------|------------------|------------|\n",
        "|Algeria            |1963|2          |7             |3.5               |4           |\n",
        "|Algeria            |1968|1          |2             |2.0               |2           |\n",
        "|Algeria            |1970|1          |2             |2.0               |2           |\n",
        "|Algeria            |1972|1          |1             |1.0               |1           |\n",
        "|Algeria            |1977|1          |2             |2.0               |2           |\n",
        "|Andorra            |1987|1          |3             |3.0               |3           |\n",
        "|Andorra            |1993|1          |1             |1.0               |1           |\n",
        "|Andorra            |1998|1          |1             |1.0               |1           |\n",
        "|Antigua and Barbuda|1978|1          |6             |6.0               |6           |\n",
        "|Antigua and Barbuda|1979|1          |14            |14.0              |14          |\n",
        "|Antigua and Barbuda|1991|1          |8             |8.0               |8           |\n",
        "|Antigua and Barbuda|1994|1          |19            |19.0              |19          |\n",
        "|Antigua and Barbuda|1995|2          |12            |6.0               |11          |\n",
        "|Antigua and Barbuda|1996|2          |3             |1.5               |2           |\n",
        "|Argentina          |1963|14         |35            |2.5               |7           |\n",
        "|Argentina          |1964|20         |60            |3.0               |8           |\n",
        "|Argentina          |1965|10         |35            |3.5               |10          |\n",
        "|Argentina          |1966|16         |44            |2.75              |9           |\n",
        "|Argentina          |1967|13         |60            |4.615384615384615 |14          |\n",
        "\n",
        "**Requirements**\n",
        "\n",
        "- The output DataFrame must be saved in a single CSV file, with a header and without any compression.\n"
      ]
    },
    {
      "cell_type": "code",
      "source": [
        "from pyspark.sql import functions as F\n",
        "# load datasets from the parquet\n",
        "df =spark.read.parquet(\"/tmp/data/ct.parquet\")\n",
        "df2 =spark.read.parquet(\"/tmp/data/apat.parquet\")\n",
        "df2 = df2.withColumn('Country', F.split(F.col('Country'), '\"').getItem(1))\n",
        "dft= spark.read.text(os.environ[\"DRIVE_DATA\"] + \"/country_codes.txt\")\n",
        "\n",
        "# Split the column  \"Dz\\tAlgeria\" in 2 columns :  Dz | Algeria\n",
        "dft = dft.withColumn('value', \\\n",
        "       F.when(F.col('value')==\"\" ,None) \\\n",
        "          .otherwise(F.col(\"value\"))) \\\n",
        "          .na.drop() \\\n",
        "          .withColumn('code', F.split(F.col('value'), '\\t').getItem(0)) \\\n",
        "          .withColumn('Country22', F.split(F.col('value'), '\\t').getItem(1))\n",
        "dft = dft.select(\"code\",\"country22\") \n",
        "\n",
        "#join code et pays\n",
        "join = df2.join(dft, df2.Country == dft.code)\n",
        "join = join.select(\"PatentNum\",\"country22\",\"Year\").withColumnRenamed('country22', 'Country')\n",
        "\n",
        "#join Patentnum et ncitations\n",
        "df = df.withColumnRenamed('PatentNum', 'C')\n",
        "join = join.join(df, join.PatentNum == df.C).select(\"Country\",\"Year\",\"PatentNum\",\"ncitations\")\n",
        "\n",
        "################ Diff datasets ####################################################################\n",
        "################ Small dataset --> 1 min to run \n",
        "minjoin = join.where(join.Country<\"Argentina\") \n",
        "#save it as a .CSV file\n",
        "#minjoin.write.option(\"header\",True).csv(os.environ[\"DRIVE_DATA\"] + \"/12-2_smallversion.csv\") \n",
        "################ Whole dataset --> 2 mins to run\n",
        "jj = join\n",
        "\n",
        "from pyspark.sql.functions import col\n",
        "from pyspark. sql . functions import avg\n",
        "# compute sum\n",
        "jj1 =  jj.groupBy(\"Country\",\"Year\").sum( \"ncitations\").withColumnRenamed('sum(ncitations)', 'TotalCitations') \\\n",
        "                                                     .withColumnRenamed('Country', 'c1') \\\n",
        "                                                     .withColumnRenamed('Year', 'y1')                                                 \n",
        "# compute avg\n",
        "jj2 =  jj.groupBy(\"Country\",\"Year\").avg( \"ncitations\").withColumnRenamed('avg(ncitations)', 'AvgCitations') \\\n",
        "                                                     .withColumnRenamed('Country', 'c2') \\\n",
        "                                                     .withColumnRenamed('Year', 'y2') \n",
        "# compute max\n",
        "jj3 =  jj.groupBy(\"Country\",\"Year\").max( \"ncitations\").withColumnRenamed('max(ncitations)', 'MaxCitations') \\\n",
        "                                                     .withColumnRenamed('Country', 'c3') \\\n",
        "                                                     .withColumnRenamed('Year', 'y3') \n",
        "#compute patentnum\n",
        "jj4 =  jj.groupBy(\"Country\",\"Year\").count().withColumnRenamed('count', 'PatentsNum')\n",
        "\n",
        "#Join the 4 datasets 1 jj4\n",
        "jj4 = jj4.join(jj1, (jj4.Country == jj1.c1) & (jj4.Year == jj1.y1) ).select(\"Country\",\"Year\",\"PatentsNum\",\"TotalCitations\")\n",
        "jj4 = jj4.join(jj2, (jj4.Country == jj2.c2) & (jj4.Year == jj2.y2) ).select(\"Country\",\"Year\",\"PatentsNum\",\"TotalCitations\",\"AvgCitations\")\n",
        "jj4 = jj4.join(jj3, (jj4.Country == jj3.c3) & (jj4.Year == jj3.y3) ).select(\"Country\",\"Year\",\"PatentsNum\",\"TotalCitations\",\"AvgCitations\",\"MaxCitations\")\n",
        "jj4 = jj4.sort(col(\"Country\"),col(\"Year\"))\n",
        "jj4.show()\n",
        "#save it as a .CSV file\n",
        "jj4.write.option(\"header\",True).csv(os.environ[\"DRIVE_DATA\"] + \"/12-2.csv\") "
      ],
      "metadata": {
        "id": "gOsgFGIqhC54",
        "colab": {
          "base_uri": "https://localhost:8080/",
          "height": 796
        },
        "outputId": "be41549d-0fa0-4a0c-964f-a780cd4bd5a8"
      },
      "execution_count": null,
      "outputs": [
        {
          "output_type": "stream",
          "name": "stdout",
          "text": [
            "+-------------------+----+----------+--------------+-----------------+------------+\n",
            "|            Country|Year|PatentsNum|TotalCitations|     AvgCitations|MaxCitations|\n",
            "+-------------------+----+----------+--------------+-----------------+------------+\n",
            "|            Algeria|1963|         2|             7|              3.5|           4|\n",
            "|            Algeria|1968|         1|             2|              2.0|           2|\n",
            "|            Algeria|1970|         1|             2|              2.0|           2|\n",
            "|            Algeria|1972|         1|             1|              1.0|           1|\n",
            "|            Algeria|1977|         1|             2|              2.0|           2|\n",
            "|            Andorra|1987|         1|             3|              3.0|           3|\n",
            "|            Andorra|1993|         1|             1|              1.0|           1|\n",
            "|            Andorra|1998|         1|             1|              1.0|           1|\n",
            "|Antigua and Barbuda|1978|         1|             6|              6.0|           6|\n",
            "|Antigua and Barbuda|1979|         1|            14|             14.0|          14|\n",
            "|Antigua and Barbuda|1991|         1|             8|              8.0|           8|\n",
            "|Antigua and Barbuda|1994|         1|            19|             19.0|          19|\n",
            "|Antigua and Barbuda|1995|         2|            12|              6.0|          11|\n",
            "|Antigua and Barbuda|1996|         2|             3|              1.5|           2|\n",
            "|          Argentina|1963|        14|            35|              2.5|           7|\n",
            "|          Argentina|1964|        20|            60|              3.0|           8|\n",
            "|          Argentina|1965|        10|            35|              3.5|          10|\n",
            "|          Argentina|1966|        16|            44|             2.75|           9|\n",
            "|          Argentina|1967|        13|            60|4.615384615384615|          14|\n",
            "|          Argentina|1968|        14|            80|5.714285714285714|          21|\n",
            "+-------------------+----+----------+--------------+-----------------+------------+\n",
            "only showing top 20 rows\n",
            "\n"
          ]
        },
        {
          "output_type": "error",
          "ename": "AnalysisException",
          "evalue": "ignored",
          "traceback": [
            "\u001b[0;31m---------------------------------------------------------------------------\u001b[0m",
            "\u001b[0;31mAnalysisException\u001b[0m                         Traceback (most recent call last)",
            "\u001b[0;32m<ipython-input-41-9b29f753c080>\u001b[0m in \u001b[0;36m<module>\u001b[0;34m\u001b[0m\n\u001b[1;32m     55\u001b[0m \u001b[0mjj4\u001b[0m\u001b[0;34m.\u001b[0m\u001b[0mshow\u001b[0m\u001b[0;34m(\u001b[0m\u001b[0;34m)\u001b[0m\u001b[0;34m\u001b[0m\u001b[0;34m\u001b[0m\u001b[0m\n\u001b[1;32m     56\u001b[0m \u001b[0;31m#save it as a .CSV file\u001b[0m\u001b[0;34m\u001b[0m\u001b[0;34m\u001b[0m\u001b[0;34m\u001b[0m\u001b[0m\n\u001b[0;32m---> 57\u001b[0;31m \u001b[0mjj4\u001b[0m\u001b[0;34m.\u001b[0m\u001b[0mwrite\u001b[0m\u001b[0;34m.\u001b[0m\u001b[0moption\u001b[0m\u001b[0;34m(\u001b[0m\u001b[0;34m\"header\"\u001b[0m\u001b[0;34m,\u001b[0m\u001b[0;32mTrue\u001b[0m\u001b[0;34m)\u001b[0m\u001b[0;34m.\u001b[0m\u001b[0mcsv\u001b[0m\u001b[0;34m(\u001b[0m\u001b[0mos\u001b[0m\u001b[0;34m.\u001b[0m\u001b[0menviron\u001b[0m\u001b[0;34m[\u001b[0m\u001b[0;34m\"DRIVE_DATA\"\u001b[0m\u001b[0;34m]\u001b[0m \u001b[0;34m+\u001b[0m \u001b[0;34m\"/12-2.csv\"\u001b[0m\u001b[0;34m)\u001b[0m\u001b[0;34m\u001b[0m\u001b[0;34m\u001b[0m\u001b[0m\n\u001b[0m",
            "\u001b[0;32m/content/spark/python/pyspark/sql/readwriter.py\u001b[0m in \u001b[0;36mcsv\u001b[0;34m(self, path, mode, compression, sep, quote, escape, header, nullValue, escapeQuotes, quoteAll, dateFormat, timestampFormat, ignoreLeadingWhiteSpace, ignoreTrailingWhiteSpace, charToEscapeQuoteEscaping, encoding, emptyValue, lineSep)\u001b[0m\n\u001b[1;32m    953\u001b[0m                        \u001b[0mcharToEscapeQuoteEscaping\u001b[0m\u001b[0;34m=\u001b[0m\u001b[0mcharToEscapeQuoteEscaping\u001b[0m\u001b[0;34m,\u001b[0m\u001b[0;34m\u001b[0m\u001b[0;34m\u001b[0m\u001b[0m\n\u001b[1;32m    954\u001b[0m                        encoding=encoding, emptyValue=emptyValue, lineSep=lineSep)\n\u001b[0;32m--> 955\u001b[0;31m         \u001b[0mself\u001b[0m\u001b[0;34m.\u001b[0m\u001b[0m_jwrite\u001b[0m\u001b[0;34m.\u001b[0m\u001b[0mcsv\u001b[0m\u001b[0;34m(\u001b[0m\u001b[0mpath\u001b[0m\u001b[0;34m)\u001b[0m\u001b[0;34m\u001b[0m\u001b[0;34m\u001b[0m\u001b[0m\n\u001b[0m\u001b[1;32m    956\u001b[0m \u001b[0;34m\u001b[0m\u001b[0m\n\u001b[1;32m    957\u001b[0m     \u001b[0;32mdef\u001b[0m \u001b[0morc\u001b[0m\u001b[0;34m(\u001b[0m\u001b[0mself\u001b[0m\u001b[0;34m,\u001b[0m \u001b[0mpath\u001b[0m\u001b[0;34m,\u001b[0m \u001b[0mmode\u001b[0m\u001b[0;34m=\u001b[0m\u001b[0;32mNone\u001b[0m\u001b[0;34m,\u001b[0m \u001b[0mpartitionBy\u001b[0m\u001b[0;34m=\u001b[0m\u001b[0;32mNone\u001b[0m\u001b[0;34m,\u001b[0m \u001b[0mcompression\u001b[0m\u001b[0;34m=\u001b[0m\u001b[0;32mNone\u001b[0m\u001b[0;34m)\u001b[0m\u001b[0;34m:\u001b[0m\u001b[0;34m\u001b[0m\u001b[0;34m\u001b[0m\u001b[0m\n",
            "\u001b[0;32m/content/spark/python/lib/py4j-0.10.9.5-src.zip/py4j/java_gateway.py\u001b[0m in \u001b[0;36m__call__\u001b[0;34m(self, *args)\u001b[0m\n\u001b[1;32m   1319\u001b[0m \u001b[0;34m\u001b[0m\u001b[0m\n\u001b[1;32m   1320\u001b[0m         \u001b[0manswer\u001b[0m \u001b[0;34m=\u001b[0m \u001b[0mself\u001b[0m\u001b[0;34m.\u001b[0m\u001b[0mgateway_client\u001b[0m\u001b[0;34m.\u001b[0m\u001b[0msend_command\u001b[0m\u001b[0;34m(\u001b[0m\u001b[0mcommand\u001b[0m\u001b[0;34m)\u001b[0m\u001b[0;34m\u001b[0m\u001b[0;34m\u001b[0m\u001b[0m\n\u001b[0;32m-> 1321\u001b[0;31m         return_value = get_return_value(\n\u001b[0m\u001b[1;32m   1322\u001b[0m             answer, self.gateway_client, self.target_id, self.name)\n\u001b[1;32m   1323\u001b[0m \u001b[0;34m\u001b[0m\u001b[0m\n",
            "\u001b[0;32m/content/spark/python/pyspark/sql/utils.py\u001b[0m in \u001b[0;36mdeco\u001b[0;34m(*a, **kw)\u001b[0m\n\u001b[1;32m    115\u001b[0m                 \u001b[0;31m# Hide where the exception came from that shows a non-Pythonic\u001b[0m\u001b[0;34m\u001b[0m\u001b[0;34m\u001b[0m\u001b[0;34m\u001b[0m\u001b[0m\n\u001b[1;32m    116\u001b[0m                 \u001b[0;31m# JVM exception message.\u001b[0m\u001b[0;34m\u001b[0m\u001b[0;34m\u001b[0m\u001b[0;34m\u001b[0m\u001b[0m\n\u001b[0;32m--> 117\u001b[0;31m                 \u001b[0;32mraise\u001b[0m \u001b[0mconverted\u001b[0m \u001b[0;32mfrom\u001b[0m \u001b[0;32mNone\u001b[0m\u001b[0;34m\u001b[0m\u001b[0;34m\u001b[0m\u001b[0m\n\u001b[0m\u001b[1;32m    118\u001b[0m             \u001b[0;32melse\u001b[0m\u001b[0;34m:\u001b[0m\u001b[0;34m\u001b[0m\u001b[0;34m\u001b[0m\u001b[0m\n\u001b[1;32m    119\u001b[0m                 \u001b[0;32mraise\u001b[0m\u001b[0;34m\u001b[0m\u001b[0;34m\u001b[0m\u001b[0m\n",
            "\u001b[0;31mAnalysisException\u001b[0m: path file:/content/gdrive/My Drive/SparkNotebook22-23-main/data/12-2.csv already exists."
          ]
        }
      ]
    },
    {
      "cell_type": "markdown",
      "metadata": {
        "id": "wT3WU-1IwOPD"
      },
      "source": [
        "## Exercise 12.3\n",
        "\n",
        "From the apat63_99.txt file, obtain the number of patents per country and year **using RDDs** (do not use DataFrames). The resulting RDD must be a key/value RDD in which the key is a country and the value a list of tuples. Each tuple will be composed of a year and the number of patents of the country during that year. In addition, the resulting RDD must be sorted by  the country code and, for each country, values must be sorted by year.\n",
        "\n",
        "Example of output key/value entry:\n",
        "\n",
        "    (u'PA', [(u'1963', 2), (u'1964', 2), (u'1965', 1), (u'1966', 1), (u'1970', 1), (u'1971', 1), (u'1972', 6), (u'1974', 3), (u'1975', 5), (u'1976', 3), (u'1977', 2), (u'1978', 2), (u'1980', 2), (u'1982', 1), (u'1983', 1), (u'1985', 2), (u'1986', 1), (u'1987', 2), (u'1988', 1), (u'1990', 1), (u'1991', 2), (u'1993', 1), (u'1995', 1), (u'1996', 1), (u'1999', 1)])\n",
        "\n",
        "**Requirements:**\n",
        "\n",
        "- You must remove the double quotation marks from the country code.\n",
        "- Use 8 partitions to read the apat63_99.txt.bz2 file.\n"
      ]
    },
    {
      "cell_type": "code",
      "source": [
        "#--NotebookApp.iopub_data_rate_limit=1.0e10\n",
        "  # to solve the pb I use a smaller file\n",
        "\n",
        "#rdd = sc.textFile(os.environ[\"DRIVE_DATA\"] + \"apat63_99.txt.tar.bz2\").repartition(8)\n",
        "rdd = sc.textFile(os.environ[\"DRIVE_DATA\"] + \"part-apat63.txt\").repartition(8)\n",
        "  #print(rdd.getNumPartitions())\n",
        "\n",
        "# take the good columns\n",
        "rdd = rdd.map(lambda x: [x.split(\",\")[i] for i in [0,1,4]] ) \n",
        "\n",
        "#remove the first line \n",
        "rdd = rdd.filter(lambda x: x != ['\"PATENT\"', '\"GYEAR\"', '\"COUNTRY\"'])\n",
        "\n",
        "#remove double quotation marks from country code and reorganise the rdd\n",
        "rdd = rdd.map(   lambda x: (  x[2].split('\"')[1]+\"\\t\"+x[1], [ x[0], x[1] ] )   )\n",
        "rdd = rdd.map(   lambda x: (x[0], 1)   ).reduceByKey(   lambda x, y: x+y  )\n",
        "rdd = rdd.map(lambda x: ( x[0].split(\"\\t\")[0] , [  x[0].split(\"\\t\")[1], x[1]  ] ) )\n",
        "\n",
        "#fuse the rdd to obtain the final form\n",
        "def Combiner(a):    #Turns value a (a tuple) into a list of a single tuple.\n",
        "    return [a]\n",
        "\n",
        "def MergeValue(a, b): #a is the new type [(,), (,), ..., (,)] and b is the old type (,)\n",
        "    a.extend([b])\n",
        "    return a\n",
        "\n",
        "def MergeCombiners(a, b): #a is the new type [(,),...,(,)] and so is b, combine them\n",
        "    a.extend(b)\n",
        "    return a\n",
        "\n",
        "rdd = rdd.combineByKey(Combiner, MergeValue, MergeCombiners)\n",
        "print(rdd.collect())"
      ],
      "metadata": {
        "colab": {
          "base_uri": "https://localhost:8080/"
        },
        "id": "05xpeT7yp1Kr",
        "outputId": "0cfb1e86-93d1-4793-c879-50a53b6ed4df"
      },
      "execution_count": null,
      "outputs": [
        {
          "output_type": "stream",
          "name": "stdout",
          "text": [
            "[('CN', [['1968', 1], ['1980', 1], ['1963', 1]]), ('NO', [['1968', 1], ['1980', 1], ['1963', 1]]), ('CH', [['1963', 12], ['1968', 12], ['1980', 12]]), ('FR', [['1980', 11], ['1968', 11], ['1963', 11]]), ('NZ', [['1968', 1], ['1963', 1], ['1980', 1]]), ('DZ', [['1980', 1], ['1968', 1], ['1963', 1]]), ('PT', [['1980', 1], ['1968', 1], ['1963', 1]]), ('DE', [['1963', 27], ['1980', 27], ['1968', 27]]), ('NL', [['1968', 2], ['1980', 2], ['1963', 2]]), ('US', [['1996', 1], ['1980', 476], ['1968', 476], ['1963', 477]]), ('JP', [['1963', 4], ['1968', 4], ['1980', 4]]), ('IT', [['1980', 2], ['1968', 2], ['1963', 2]]), ('GB', [['1980', 21], ['1968', 21], ['1963', 21]]), ('DK', [['1963', 1], ['1968', 1], ['1980', 1]]), ('ES', [['1968', 1], ['1963', 1], ['1980', 1]]), ('BE', [['1980', 2], ['1963', 2], ['1968', 2]]), ('CA', [['1980', 8], ['1968', 8], ['1963', 8]]), ('AT', [['1968', 3], ['1980', 3], ['1963', 3]]), ('SE', [['1980', 7], ['1968', 7], ['1963', 7]])]\n"
          ]
        }
      ]
    },
    {
      "cell_type": "markdown",
      "metadata": {
        "id": "g0LiWoc4VQdh"
      },
      "source": [
        "## Exercise 12.4\n",
        "\n",
        "From the Parquet files created in Exercise 12.1, create a DataFrame that gives the patent or patents with the higher number of citations per country and year, as well as the average of the number of citations per country and year, and the difference between the maximum and the average values. The resulting DataFrame should look like this:\n",
        "\n",
        "\n",
        "|Country|Year|PatentNum|max  |average       |diff              |\n",
        "|-------|----|---------|-----|--------------|------------------|\n",
        "|AD     |1987|4688621  |3    |3.0           |0.0               |\n",
        "|AD     |1993|5193231  |1    |1.0           |0.0               |\n",
        "|AD     |1998|5765303  |1    |1.0           |0.0               |\n",
        "|AE     |1984|4482959  |5    |5.0           |0.0               |\n",
        "|AE     |1985|4554981  |14   |14.0          |0.0               |\n",
        "|AE     |1987|4663181  |3    |3.0           |0.0               |\n",
        "|AE     |1989|4805221  |7    |5.0           |2.0               |\n",
        "|AE     |1990|4909321  |2    |2.0           |0.0               |\n",
        "|AE     |1991|5004552  |3    |2.0           |1.0               |\n",
        "|AE     |1992|5104556  |4    |4.0           |0.0               |\n",
        "|AE     |1993|5181569  |8    |8.0           |0.0               |\n",
        "|AE     |1996|5580125  |1    |1.0           |0.0               |\n",
        "|AG     |1978|4126850  |6    |6.0           |0.0               |\n",
        "|AG     |1979|4172981  |14   |14.0          |0.0               |\n",
        "|AG     |1991|5013035  |8    |8.0           |0.0               |\n",
        "|AG     |1994|5345071  |19   |19.0          |0.0               |\n",
        "|AG     |1995|5457307  |11   |6.0           |5.0               |\n",
        "|AG     |1996|5525786  |2    |1.5           |0.5               |\n",
        "\n",
        "**Requirements:**\n",
        "\n",
        "- The DataFrame must be sorted by country code and year.\n",
        "- Do **NOT** replace the country code by its whole name.\n",
        "- The output must be saved as a single CSV file, with a header and without any compression.\n"
      ]
    },
    {
      "cell_type": "code",
      "source": [
        "df =spark.read.parquet(\"/tmp/data/ct.parquet\")\n",
        "df2 =spark.read.parquet(\"/tmp/data/apat.parquet\")\n",
        "from pyspark.sql.functions import col\n",
        "\n",
        "#df.show()\n",
        "df2 = df2 = df2.withColumn('Country', F.split(F.col('Country'), '\"').getItem(1)).withColumnRenamed(\"PatentNum\", \"P2\")\n",
        "#df2.show()\n",
        "join = df.join(df2, (df.PatentNum == df2.P2)  ).select(\"Country\",\"Year\",\"PatentNum\",\"ncitations\")\n",
        "#join.show()\n",
        "\n",
        "# Compute max |\taverage |\tdiff in --> j1 | j2 | j3\n",
        "\n",
        "# compute  max (sometimes several max)\n",
        "j1 =  join.groupBy(\"Country\",\"Year\").max( \"ncitations\") \\\n",
        "                                    .withColumnRenamed(\"max(ncitations)\", \"mc1\") \\\n",
        "                                    .withColumnRenamed(\"Country\", \"c1\") \\\n",
        "                                    .withColumnRenamed(\"Year\", \"y1\")\n",
        "j1 = join.join(j1, (join.Country == j1.c1) & (join.Year == j1.y1) ).select(\"Country\",\"Year\",\"PatentNum\",\"ncitations\",\"mc1\")                                 \n",
        "j1 = j1.where(j1.ncitations == j1.mc1)  \n",
        "#j1.show()\n",
        "\n",
        "# compute  avg\n",
        "from pyspark. sql . functions import avg\n",
        "j2 =  join.groupBy(\"Country\",\"Year\").avg( \"ncitations\") \\\n",
        "                                    .withColumnRenamed(\"avg(ncitations)\", \"avg\") \\\n",
        "                                    .withColumnRenamed(\"Country\", \"c2\") \\\n",
        "                                    .withColumnRenamed(\"Year\", \"y2\")\n",
        "j2 = j1.join(j2, (j1.Country == j2.c2) & (j1.Year == j2.y2) ).select(\"Country\",\"Year\",\"PatentNum\",\"ncitations\",\"mc1\",\"avg\").sort(col(\"Country\"),col(\"Year\"))                                 \n",
        "#j2.show()\n",
        "\n",
        "#compute diff \n",
        "j2 = j2.select(\"Country\",\"Year\",\"PatentNum\",\"mc1\",\"avg\") \\\n",
        "                  .withColumn('diff', col('mc1')-col('avg')) \\\n",
        "                  .withColumnRenamed(\"mc1\", \"max\") \\\n",
        "                  .withColumnRenamed(\"avg\", \"average\")\n",
        "\n",
        "j2.show()\n",
        "#save it as a .CSV file\n",
        "j2.write.option(\"header\",True).csv(os.environ[\"DRIVE_DATA\"] + \"/12-4_MaxAvgDiff.csv\")"
      ],
      "metadata": {
        "id": "XCAkad8lPg5w",
        "colab": {
          "base_uri": "https://localhost:8080/",
          "height": 796
        },
        "outputId": "f3a723dd-2206-4b4a-d78a-eaedc3846042"
      },
      "execution_count": null,
      "outputs": [
        {
          "output_type": "stream",
          "name": "stdout",
          "text": [
            "+-------+----+---------+---+-------+----+\n",
            "|Country|Year|PatentNum|max|average|diff|\n",
            "+-------+----+---------+---+-------+----+\n",
            "|     AD|1987|  4688621|  3|    3.0| 0.0|\n",
            "|     AD|1993|  5193231|  1|    1.0| 0.0|\n",
            "|     AD|1998|  5765303|  1|    1.0| 0.0|\n",
            "|     AE|1984|  4482959|  5|    5.0| 0.0|\n",
            "|     AE|1985|  4554981| 14|   14.0| 0.0|\n",
            "|     AE|1987|  4663181|  3|    3.0| 0.0|\n",
            "|     AE|1989|  4805221|  7|    5.0| 2.0|\n",
            "|     AE|1990|  4909321|  2|    2.0| 0.0|\n",
            "|     AE|1991|  5004552|  3|    2.0| 1.0|\n",
            "|     AE|1992|  5104556|  4|    4.0| 0.0|\n",
            "|     AE|1993|  5181569|  8|    8.0| 0.0|\n",
            "|     AE|1996|  5580125|  1|    1.0| 0.0|\n",
            "|     AG|1978|  4126850|  6|    6.0| 0.0|\n",
            "|     AG|1979|  4172981| 14|   14.0| 0.0|\n",
            "|     AG|1991|  5013035|  8|    8.0| 0.0|\n",
            "|     AG|1994|  5345071| 19|   19.0| 0.0|\n",
            "|     AG|1995|  5457307| 11|    6.0| 5.0|\n",
            "|     AG|1996|  5525786|  2|    1.5| 0.5|\n",
            "|     AM|1995|  5382341|  2|    2.0| 0.0|\n",
            "|     AN|1979|  4165701|  1|    1.0| 0.0|\n",
            "+-------+----+---------+---+-------+----+\n",
            "only showing top 20 rows\n",
            "\n"
          ]
        },
        {
          "output_type": "error",
          "ename": "AnalysisException",
          "evalue": "ignored",
          "traceback": [
            "\u001b[0;31m---------------------------------------------------------------------------\u001b[0m",
            "\u001b[0;31mAnalysisException\u001b[0m                         Traceback (most recent call last)",
            "\u001b[0;32m<ipython-input-43-56eb144ad065>\u001b[0m in \u001b[0;36m<module>\u001b[0;34m\u001b[0m\n\u001b[1;32m     37\u001b[0m \u001b[0mj2\u001b[0m\u001b[0;34m.\u001b[0m\u001b[0mshow\u001b[0m\u001b[0;34m(\u001b[0m\u001b[0;34m)\u001b[0m\u001b[0;34m\u001b[0m\u001b[0;34m\u001b[0m\u001b[0m\n\u001b[1;32m     38\u001b[0m \u001b[0;31m#save it as a .CSV file\u001b[0m\u001b[0;34m\u001b[0m\u001b[0;34m\u001b[0m\u001b[0;34m\u001b[0m\u001b[0m\n\u001b[0;32m---> 39\u001b[0;31m \u001b[0mj2\u001b[0m\u001b[0;34m.\u001b[0m\u001b[0mwrite\u001b[0m\u001b[0;34m.\u001b[0m\u001b[0moption\u001b[0m\u001b[0;34m(\u001b[0m\u001b[0;34m\"header\"\u001b[0m\u001b[0;34m,\u001b[0m\u001b[0;32mTrue\u001b[0m\u001b[0;34m)\u001b[0m\u001b[0;34m.\u001b[0m\u001b[0mcsv\u001b[0m\u001b[0;34m(\u001b[0m\u001b[0mos\u001b[0m\u001b[0;34m.\u001b[0m\u001b[0menviron\u001b[0m\u001b[0;34m[\u001b[0m\u001b[0;34m\"DRIVE_DATA\"\u001b[0m\u001b[0;34m]\u001b[0m \u001b[0;34m+\u001b[0m \u001b[0;34m\"/12-4_MaxAvgDiff.csv\"\u001b[0m\u001b[0;34m)\u001b[0m\u001b[0;34m\u001b[0m\u001b[0;34m\u001b[0m\u001b[0m\n\u001b[0m",
            "\u001b[0;32m/content/spark/python/pyspark/sql/readwriter.py\u001b[0m in \u001b[0;36mcsv\u001b[0;34m(self, path, mode, compression, sep, quote, escape, header, nullValue, escapeQuotes, quoteAll, dateFormat, timestampFormat, ignoreLeadingWhiteSpace, ignoreTrailingWhiteSpace, charToEscapeQuoteEscaping, encoding, emptyValue, lineSep)\u001b[0m\n\u001b[1;32m    953\u001b[0m                        \u001b[0mcharToEscapeQuoteEscaping\u001b[0m\u001b[0;34m=\u001b[0m\u001b[0mcharToEscapeQuoteEscaping\u001b[0m\u001b[0;34m,\u001b[0m\u001b[0;34m\u001b[0m\u001b[0;34m\u001b[0m\u001b[0m\n\u001b[1;32m    954\u001b[0m                        encoding=encoding, emptyValue=emptyValue, lineSep=lineSep)\n\u001b[0;32m--> 955\u001b[0;31m         \u001b[0mself\u001b[0m\u001b[0;34m.\u001b[0m\u001b[0m_jwrite\u001b[0m\u001b[0;34m.\u001b[0m\u001b[0mcsv\u001b[0m\u001b[0;34m(\u001b[0m\u001b[0mpath\u001b[0m\u001b[0;34m)\u001b[0m\u001b[0;34m\u001b[0m\u001b[0;34m\u001b[0m\u001b[0m\n\u001b[0m\u001b[1;32m    956\u001b[0m \u001b[0;34m\u001b[0m\u001b[0m\n\u001b[1;32m    957\u001b[0m     \u001b[0;32mdef\u001b[0m \u001b[0morc\u001b[0m\u001b[0;34m(\u001b[0m\u001b[0mself\u001b[0m\u001b[0;34m,\u001b[0m \u001b[0mpath\u001b[0m\u001b[0;34m,\u001b[0m \u001b[0mmode\u001b[0m\u001b[0;34m=\u001b[0m\u001b[0;32mNone\u001b[0m\u001b[0;34m,\u001b[0m \u001b[0mpartitionBy\u001b[0m\u001b[0;34m=\u001b[0m\u001b[0;32mNone\u001b[0m\u001b[0;34m,\u001b[0m \u001b[0mcompression\u001b[0m\u001b[0;34m=\u001b[0m\u001b[0;32mNone\u001b[0m\u001b[0;34m)\u001b[0m\u001b[0;34m:\u001b[0m\u001b[0;34m\u001b[0m\u001b[0;34m\u001b[0m\u001b[0m\n",
            "\u001b[0;32m/content/spark/python/lib/py4j-0.10.9.5-src.zip/py4j/java_gateway.py\u001b[0m in \u001b[0;36m__call__\u001b[0;34m(self, *args)\u001b[0m\n\u001b[1;32m   1319\u001b[0m \u001b[0;34m\u001b[0m\u001b[0m\n\u001b[1;32m   1320\u001b[0m         \u001b[0manswer\u001b[0m \u001b[0;34m=\u001b[0m \u001b[0mself\u001b[0m\u001b[0;34m.\u001b[0m\u001b[0mgateway_client\u001b[0m\u001b[0;34m.\u001b[0m\u001b[0msend_command\u001b[0m\u001b[0;34m(\u001b[0m\u001b[0mcommand\u001b[0m\u001b[0;34m)\u001b[0m\u001b[0;34m\u001b[0m\u001b[0;34m\u001b[0m\u001b[0m\n\u001b[0;32m-> 1321\u001b[0;31m         return_value = get_return_value(\n\u001b[0m\u001b[1;32m   1322\u001b[0m             answer, self.gateway_client, self.target_id, self.name)\n\u001b[1;32m   1323\u001b[0m \u001b[0;34m\u001b[0m\u001b[0m\n",
            "\u001b[0;32m/content/spark/python/pyspark/sql/utils.py\u001b[0m in \u001b[0;36mdeco\u001b[0;34m(*a, **kw)\u001b[0m\n\u001b[1;32m    115\u001b[0m                 \u001b[0;31m# Hide where the exception came from that shows a non-Pythonic\u001b[0m\u001b[0;34m\u001b[0m\u001b[0;34m\u001b[0m\u001b[0;34m\u001b[0m\u001b[0m\n\u001b[1;32m    116\u001b[0m                 \u001b[0;31m# JVM exception message.\u001b[0m\u001b[0;34m\u001b[0m\u001b[0;34m\u001b[0m\u001b[0;34m\u001b[0m\u001b[0m\n\u001b[0;32m--> 117\u001b[0;31m                 \u001b[0;32mraise\u001b[0m \u001b[0mconverted\u001b[0m \u001b[0;32mfrom\u001b[0m \u001b[0;32mNone\u001b[0m\u001b[0;34m\u001b[0m\u001b[0;34m\u001b[0m\u001b[0m\n\u001b[0m\u001b[1;32m    118\u001b[0m             \u001b[0;32melse\u001b[0m\u001b[0;34m:\u001b[0m\u001b[0;34m\u001b[0m\u001b[0;34m\u001b[0m\u001b[0m\n\u001b[1;32m    119\u001b[0m                 \u001b[0;32mraise\u001b[0m\u001b[0;34m\u001b[0m\u001b[0;34m\u001b[0m\u001b[0m\n",
            "\u001b[0;31mAnalysisException\u001b[0m: path file:/content/gdrive/My Drive/SparkNotebook22-23-main/data/12-4_MaxAvgDiff.csv already exists."
          ]
        }
      ]
    },
    {
      "cell_type": "markdown",
      "metadata": {
        "id": "ektPyLWzaImT"
      },
      "source": [
        "## Exercise 12.5\n",
        "\n",
        "From the Parquet file with the (PatentNum,Country,Year) information from Exercise 12.1, create a DataFrame that shows the number of patents associated to each country per decade (understanding as a *decade* the years from 0 to 9; e.g. from 1970 to 1979). In addition, the DataFrame must show the increase or decrease of the number of patents per country and decade with respect to the previous decade. The resulting DataFrame must look like this:\n",
        "\n",
        "|Country|Decade|PatentsNum|Diff|\n",
        "|-------|------|----------|----|\n",
        "|AD     |1980  |1         |0   |\n",
        "|AD     |1990  |5         |4   |\n",
        "|AE     |1980  |7         |0   |\n",
        "|AE     |1990  |11        |4   |\n",
        "|AG     |1970  |2         |0   |\n",
        "|AG     |1990  |7         |5   |\n",
        "|AI     |1990  |1         |0   |\n",
        "|AL     |1990  |1         |0   |\n",
        "|AM     |1990  |2         |0   |\n",
        "|AN     |1970  |1         |0   |\n",
        "|AN     |1980  |2         |1   |\n",
        "|AN     |1990  |5         |3   |\n",
        "|AR     |1960  |135       |0   |\n",
        "|AR     |1970  |239       |104 |\n",
        "|AR     |1980  |184       |-55 |\n",
        "|AR     |1990  |292       |108 |\n",
        "\n",
        "**Requirements**\n",
        "\n",
        "- The DataFrame must be sorted by country code and year.\n",
        "- Do **NOT** replace the country code by its whole name.\n",
        "- The output must be saved as a single CSV file, with a header and without any compression."
      ]
    },
    {
      "cell_type": "code",
      "source": [
        "from pyspark.sql.types import StringType,BooleanType,DateType,ArrayType\n",
        "import pyspark.sql.functions as f\n",
        "\n",
        "df =spark.read.parquet(\"/tmp/data/apat.parquet\")\n",
        "df = df.withColumn('Country', F.split(F.col('Country'), '\"').getItem(1)) \\\n",
        "                                        .select(\"Country\", \"Year\", \"PatentNum\") \\\n",
        "                                        .withColumn('Decade', F.split(F.col('Year'), '').getItem(2)*10 \\\n",
        "                                          + F.split(F.col('Year'), '').getItem(1) * 100 \\\n",
        "                                          +F.split(F.col('Year'), '').getItem(0)*1000    ) \n",
        "# OR df = df .withColumn(  'Decade2', df.Year - F.split(F.col('Year'), '').getItem(3)  ) \n",
        "df = df.withColumn(   'Decade', df.Decade.cast('integer')   ).select(\"Country\", \"Decade\", \"PatentNum\")\n",
        "df = df.groupBy(\"Country\",\"Decade\").count().withColumnRenamed('count', 'PatentNum').sort(col(\"Country\"),col(\"Decade\"))\n",
        "\n",
        "# increase or decrease ?\n",
        "from pyspark.sql.window import Window\n",
        "df = df.withColumn(   \"res\", F.split(F.col('Country'), '\"').getItem(1)   )\n",
        "window = Window.partitionBy(\"Country\").orderBy(\"Country\",\"Decade\")\n",
        "df = df.withColumn(\"lag\", f.col(\"PatentNum\") - f.lag(f.col(\"PatentNum\"), 1, 0).over(window))\n",
        "df = df.sort(col(\"Country\"),col(\"Decade\"))\n",
        "df = df.withColumn(\"Diff\", f.when(f.col('PatentNum')== f.col('lag') , 0) \\\n",
        "          .otherwise(F.col(\"lag\"))) \\\n",
        "          .select(\"Country\", \"Decade\", \"PatentNum\", \"Diff\")\n",
        "df.show()\n",
        "\n",
        "#save it as a .CSV file\n",
        "df.write.option(\"header\",True).csv(os.environ[\"DRIVE_DATA\"] + \"/12-5_diff.csv\")"
      ],
      "metadata": {
        "id": "5sl1b4QyPprN",
        "colab": {
          "base_uri": "https://localhost:8080/",
          "height": 796
        },
        "outputId": "5bfc5bb6-0ef8-4479-84e3-169b1d337ff0"
      },
      "execution_count": null,
      "outputs": [
        {
          "output_type": "stream",
          "name": "stdout",
          "text": [
            "+-------+------+---------+----+\n",
            "|Country|Decade|PatentNum|Diff|\n",
            "+-------+------+---------+----+\n",
            "|     AD|  1980|        1|   0|\n",
            "|     AD|  1990|        5|   4|\n",
            "|     AE|  1980|        7|   0|\n",
            "|     AE|  1990|       11|   4|\n",
            "|     AG|  1970|        2|   0|\n",
            "|     AG|  1990|        7|   5|\n",
            "|     AI|  1990|        1|   0|\n",
            "|     AL|  1990|        1|   0|\n",
            "|     AM|  1990|        2|   0|\n",
            "|     AN|  1970|        1|   0|\n",
            "|     AN|  1980|        2|   1|\n",
            "|     AN|  1990|        5|   3|\n",
            "|     AR|  1960|      135|   0|\n",
            "|     AR|  1970|      239| 104|\n",
            "|     AR|  1980|      184| -55|\n",
            "|     AR|  1990|      292| 108|\n",
            "|     AT|  1960|      950|   0|\n",
            "|     AT|  1970|     2588|1638|\n",
            "|     AT|  1980|     3057| 469|\n",
            "|     AT|  1990|     3665| 608|\n",
            "+-------+------+---------+----+\n",
            "only showing top 20 rows\n",
            "\n"
          ]
        },
        {
          "output_type": "error",
          "ename": "AnalysisException",
          "evalue": "ignored",
          "traceback": [
            "\u001b[0;31m---------------------------------------------------------------------------\u001b[0m",
            "\u001b[0;31mAnalysisException\u001b[0m                         Traceback (most recent call last)",
            "\u001b[0;32m<ipython-input-44-8042831fa343>\u001b[0m in \u001b[0;36m<module>\u001b[0;34m\u001b[0m\n\u001b[1;32m     24\u001b[0m \u001b[0;34m\u001b[0m\u001b[0m\n\u001b[1;32m     25\u001b[0m \u001b[0;31m#save it as a .CSV file\u001b[0m\u001b[0;34m\u001b[0m\u001b[0;34m\u001b[0m\u001b[0;34m\u001b[0m\u001b[0m\n\u001b[0;32m---> 26\u001b[0;31m \u001b[0mdf\u001b[0m\u001b[0;34m.\u001b[0m\u001b[0mwrite\u001b[0m\u001b[0;34m.\u001b[0m\u001b[0moption\u001b[0m\u001b[0;34m(\u001b[0m\u001b[0;34m\"header\"\u001b[0m\u001b[0;34m,\u001b[0m\u001b[0;32mTrue\u001b[0m\u001b[0;34m)\u001b[0m\u001b[0;34m.\u001b[0m\u001b[0mcsv\u001b[0m\u001b[0;34m(\u001b[0m\u001b[0mos\u001b[0m\u001b[0;34m.\u001b[0m\u001b[0menviron\u001b[0m\u001b[0;34m[\u001b[0m\u001b[0;34m\"DRIVE_DATA\"\u001b[0m\u001b[0;34m]\u001b[0m \u001b[0;34m+\u001b[0m \u001b[0;34m\"/12-5_diff.csv\"\u001b[0m\u001b[0;34m)\u001b[0m\u001b[0;34m\u001b[0m\u001b[0;34m\u001b[0m\u001b[0m\n\u001b[0m",
            "\u001b[0;32m/content/spark/python/pyspark/sql/readwriter.py\u001b[0m in \u001b[0;36mcsv\u001b[0;34m(self, path, mode, compression, sep, quote, escape, header, nullValue, escapeQuotes, quoteAll, dateFormat, timestampFormat, ignoreLeadingWhiteSpace, ignoreTrailingWhiteSpace, charToEscapeQuoteEscaping, encoding, emptyValue, lineSep)\u001b[0m\n\u001b[1;32m    953\u001b[0m                        \u001b[0mcharToEscapeQuoteEscaping\u001b[0m\u001b[0;34m=\u001b[0m\u001b[0mcharToEscapeQuoteEscaping\u001b[0m\u001b[0;34m,\u001b[0m\u001b[0;34m\u001b[0m\u001b[0;34m\u001b[0m\u001b[0m\n\u001b[1;32m    954\u001b[0m                        encoding=encoding, emptyValue=emptyValue, lineSep=lineSep)\n\u001b[0;32m--> 955\u001b[0;31m         \u001b[0mself\u001b[0m\u001b[0;34m.\u001b[0m\u001b[0m_jwrite\u001b[0m\u001b[0;34m.\u001b[0m\u001b[0mcsv\u001b[0m\u001b[0;34m(\u001b[0m\u001b[0mpath\u001b[0m\u001b[0;34m)\u001b[0m\u001b[0;34m\u001b[0m\u001b[0;34m\u001b[0m\u001b[0m\n\u001b[0m\u001b[1;32m    956\u001b[0m \u001b[0;34m\u001b[0m\u001b[0m\n\u001b[1;32m    957\u001b[0m     \u001b[0;32mdef\u001b[0m \u001b[0morc\u001b[0m\u001b[0;34m(\u001b[0m\u001b[0mself\u001b[0m\u001b[0;34m,\u001b[0m \u001b[0mpath\u001b[0m\u001b[0;34m,\u001b[0m \u001b[0mmode\u001b[0m\u001b[0;34m=\u001b[0m\u001b[0;32mNone\u001b[0m\u001b[0;34m,\u001b[0m \u001b[0mpartitionBy\u001b[0m\u001b[0;34m=\u001b[0m\u001b[0;32mNone\u001b[0m\u001b[0;34m,\u001b[0m \u001b[0mcompression\u001b[0m\u001b[0;34m=\u001b[0m\u001b[0;32mNone\u001b[0m\u001b[0;34m)\u001b[0m\u001b[0;34m:\u001b[0m\u001b[0;34m\u001b[0m\u001b[0;34m\u001b[0m\u001b[0m\n",
            "\u001b[0;32m/content/spark/python/lib/py4j-0.10.9.5-src.zip/py4j/java_gateway.py\u001b[0m in \u001b[0;36m__call__\u001b[0;34m(self, *args)\u001b[0m\n\u001b[1;32m   1319\u001b[0m \u001b[0;34m\u001b[0m\u001b[0m\n\u001b[1;32m   1320\u001b[0m         \u001b[0manswer\u001b[0m \u001b[0;34m=\u001b[0m \u001b[0mself\u001b[0m\u001b[0;34m.\u001b[0m\u001b[0mgateway_client\u001b[0m\u001b[0;34m.\u001b[0m\u001b[0msend_command\u001b[0m\u001b[0;34m(\u001b[0m\u001b[0mcommand\u001b[0m\u001b[0;34m)\u001b[0m\u001b[0;34m\u001b[0m\u001b[0;34m\u001b[0m\u001b[0m\n\u001b[0;32m-> 1321\u001b[0;31m         return_value = get_return_value(\n\u001b[0m\u001b[1;32m   1322\u001b[0m             answer, self.gateway_client, self.target_id, self.name)\n\u001b[1;32m   1323\u001b[0m \u001b[0;34m\u001b[0m\u001b[0m\n",
            "\u001b[0;32m/content/spark/python/pyspark/sql/utils.py\u001b[0m in \u001b[0;36mdeco\u001b[0;34m(*a, **kw)\u001b[0m\n\u001b[1;32m    115\u001b[0m                 \u001b[0;31m# Hide where the exception came from that shows a non-Pythonic\u001b[0m\u001b[0;34m\u001b[0m\u001b[0;34m\u001b[0m\u001b[0;34m\u001b[0m\u001b[0m\n\u001b[1;32m    116\u001b[0m                 \u001b[0;31m# JVM exception message.\u001b[0m\u001b[0;34m\u001b[0m\u001b[0;34m\u001b[0m\u001b[0;34m\u001b[0m\u001b[0m\n\u001b[0;32m--> 117\u001b[0;31m                 \u001b[0;32mraise\u001b[0m \u001b[0mconverted\u001b[0m \u001b[0;32mfrom\u001b[0m \u001b[0;32mNone\u001b[0m\u001b[0;34m\u001b[0m\u001b[0;34m\u001b[0m\u001b[0m\n\u001b[0m\u001b[1;32m    118\u001b[0m             \u001b[0;32melse\u001b[0m\u001b[0;34m:\u001b[0m\u001b[0;34m\u001b[0m\u001b[0;34m\u001b[0m\u001b[0m\n\u001b[1;32m    119\u001b[0m                 \u001b[0;32mraise\u001b[0m\u001b[0;34m\u001b[0m\u001b[0;34m\u001b[0m\u001b[0m\n",
            "\u001b[0;31mAnalysisException\u001b[0m: path file:/content/gdrive/My Drive/SparkNotebook22-23-main/data/12-5_diff.csv already exists."
          ]
        }
      ]
    }
  ]
}
